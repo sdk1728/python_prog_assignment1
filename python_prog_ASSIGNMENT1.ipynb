{
 "cells": [
  {
   "cell_type": "markdown",
   "id": "9be6d7a6",
   "metadata": {},
   "source": [
    "## 1.\tWrite a Python program to print \"Hello Python\"?"
   ]
  },
  {
   "cell_type": "code",
   "execution_count": 1,
   "id": "67479715",
   "metadata": {},
   "outputs": [
    {
     "name": "stdout",
     "output_type": "stream",
     "text": [
      "Hello python\n"
     ]
    }
   ],
   "source": [
    "print(\"Hello python\")"
   ]
  },
  {
   "cell_type": "markdown",
   "id": "e7549882",
   "metadata": {},
   "source": [
    "## 2.\tWrite a Python program to do arithmetical operations addition and division.?"
   ]
  },
  {
   "cell_type": "code",
   "execution_count": 3,
   "id": "d0359ace",
   "metadata": {},
   "outputs": [
    {
     "name": "stdout",
     "output_type": "stream",
     "text": [
      "10\n",
      "20\n",
      "30\n",
      "0.5\n"
     ]
    }
   ],
   "source": [
    "a=int(input())\n",
    "b=int(input())\n",
    "\n",
    "print(a+b)\n",
    "print(a/b)\n",
    "\n",
    "\n",
    "\n"
   ]
  },
  {
   "cell_type": "markdown",
   "id": "2378c471",
   "metadata": {},
   "source": [
    "## 3.\tWrite a Python program to find the area of a triangle?"
   ]
  },
  {
   "cell_type": "code",
   "execution_count": 1,
   "id": "1ea16968",
   "metadata": {},
   "outputs": [
    {
     "name": "stdout",
     "output_type": "stream",
     "text": [
      "enter base of triangle 10\n",
      "enter height of triangle 20\n",
      "100.0\n"
     ]
    }
   ],
   "source": [
    "a=int(input(\"enter base of triangle \"))\n",
    "b=int(input(\"enter height of triangle \"))\n",
    "area=(a*b)/2\n",
    "print(area)\n"
   ]
  },
  {
   "cell_type": "markdown",
   "id": "6d49815d",
   "metadata": {},
   "source": [
    "## 4.\tWrite a Python program to swap two variables?"
   ]
  },
  {
   "cell_type": "code",
   "execution_count": 2,
   "id": "4ebb3386",
   "metadata": {},
   "outputs": [
    {
     "name": "stdout",
     "output_type": "stream",
     "text": [
      "value of a: 3443\n",
      "value of b: 1233\n"
     ]
    }
   ],
   "source": [
    "a= 1233\n",
    "b=3443\n",
    "\n",
    "a,b=b,a\n",
    "print(\"value of a:\", a)\n",
    "print(\"value of b:\",b)"
   ]
  },
  {
   "cell_type": "markdown",
   "id": "f38fa631",
   "metadata": {},
   "source": [
    "## 5.\tWrite a Python program to generate a random number?"
   ]
  },
  {
   "cell_type": "code",
   "execution_count": 3,
   "id": "d0c5c20a",
   "metadata": {},
   "outputs": [
    {
     "name": "stdout",
     "output_type": "stream",
     "text": [
      "generate a no 1728\n"
     ]
    }
   ],
   "source": [
    "a=int(input(\"generate a no \"))"
   ]
  },
  {
   "cell_type": "code",
   "execution_count": null,
   "id": "d82e7ade",
   "metadata": {},
   "outputs": [],
   "source": []
  }
 ],
 "metadata": {
  "kernelspec": {
   "display_name": "Python 3 (ipykernel)",
   "language": "python",
   "name": "python3"
  },
  "language_info": {
   "codemirror_mode": {
    "name": "ipython",
    "version": 3
   },
   "file_extension": ".py",
   "mimetype": "text/x-python",
   "name": "python",
   "nbconvert_exporter": "python",
   "pygments_lexer": "ipython3",
   "version": "3.9.7"
  }
 },
 "nbformat": 4,
 "nbformat_minor": 5
}
